{
 "cells": [
  {
   "cell_type": "code",
   "execution_count": 1,
   "id": "1ce23b18-e89f-49f7-86af-2b82a7238355",
   "metadata": {},
   "outputs": [],
   "source": [
    "from joblib import dump, load\n",
    "import numpy as np\n",
    "model= load(\"WorthWhisperer.joblibe\")"
   ]
  },
  {
   "cell_type": "code",
   "execution_count": 5,
   "id": "61848a5f-76e3-4eee-9e4c-a54e3bd21390",
   "metadata": {},
   "outputs": [
    {
     "data": {
      "text/plain": [
       "array([22.489])"
      ]
     },
     "execution_count": 5,
     "metadata": {},
     "output_type": "execute_result"
    }
   ],
   "source": [
    "features = np.array([[0.009, 20, 4.31,1,0.6,9.575,3.2, 8.09, 2, 250, 15.9,396.6, 5.99]])\n",
    "model.predict(features)"
   ]
  },
  {
   "cell_type": "code",
   "execution_count": 8,
   "id": "c12f8597-672c-4908-a931-4fbae551e288",
   "metadata": {},
   "outputs": [
    {
     "data": {
      "text/plain": [
       "array([20.52])"
      ]
     },
     "execution_count": 8,
     "metadata": {},
     "output_type": "execute_result"
    }
   ],
   "source": [
    "features = np.array([[0.00522, 19, 3.31, 0, 0.45, 1.575, 68.2, 5.07, 3, 246, 14.3,394.7, 5.98]])\n",
    "model.predict(features)"
   ]
  },
  {
   "cell_type": "code",
   "execution_count": 11,
   "id": "f20cfc0b-ab36-48f0-b353-a62fbdeda115",
   "metadata": {},
   "outputs": [
    {
     "data": {
      "text/plain": [
       "array([20.411])"
      ]
     },
     "execution_count": 11,
     "metadata": {},
     "output_type": "execute_result"
    }
   ],
   "source": [
    "features = np.array([[0.0762, 38, 5.31, 0, 1.53, 2.575, 75.6, 7.06, 1, 256, 14.7,336.9, 400.98]])\n",
    "model.predict(features)"
   ]
  },
  {
   "cell_type": "code",
   "execution_count": 12,
   "id": "87e7d760-e001-4c33-92f5-a1d908b01ece",
   "metadata": {},
   "outputs": [
    {
     "data": {
      "text/plain": [
       "array([17.112])"
      ]
     },
     "execution_count": 12,
     "metadata": {},
     "output_type": "execute_result"
    }
   ],
   "source": [
    "features = np.array([[0.0762, 38, 555.31, 0, 1.53, 1.575, 75.6, 7.06, 1, 256, 444.7,366.9, 400.98]])\n",
    "model.predict(features)"
   ]
  },
  {
   "cell_type": "code",
   "execution_count": null,
   "id": "238c6f07-8da8-4004-86ec-9d0d6186cc7a",
   "metadata": {},
   "outputs": [],
   "source": []
  }
 ],
 "metadata": {
  "kernelspec": {
   "display_name": "Python 3 (ipykernel)",
   "language": "python",
   "name": "python3"
  },
  "language_info": {
   "codemirror_mode": {
    "name": "ipython",
    "version": 3
   },
   "file_extension": ".py",
   "mimetype": "text/x-python",
   "name": "python",
   "nbconvert_exporter": "python",
   "pygments_lexer": "ipython3",
   "version": "3.10.7"
  }
 },
 "nbformat": 4,
 "nbformat_minor": 5
}
